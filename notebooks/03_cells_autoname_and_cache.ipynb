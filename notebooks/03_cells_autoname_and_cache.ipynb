{
 "cells": [
  {
   "cell_type": "markdown",
   "metadata": {},
   "source": [
    "# Cell\n",
    "\n",
    "Problem:\n",
    "\n",
    "In GDS format\n",
    "\n",
    "- each cell must have a unique name. Ideally the name is also consitent from different run times, in case you want to merge GDS files that were created at different times or computers.\n",
    "- two cells stored in the GDS file cannot have the same name. Ideally they will be references to the same Cell. See `References tutorial`. That way we only have to store that cell in memory once and all the references are just pointers to that cell.\n",
    "\n",
    "Solution: The decorator `@gf.cell` addresses all these issues:\n",
    "\n",
    "1. Gives the cell a unique name depending on the parameters that you pass to it.\n",
    "2. Creates a cache of cells where we use the cell name as the key. The first time the function runs, the cache stores the component, so the second time, you get the component directly from the cache, so you don't create the same cell twice.\n",
    "\n",
    "\n",
    "Also, thanks to the @cell decorator, GDS cells in gdsfactory include an `metadata` dictionary where you can access any metadata from the cell:\n",
    "\n",
    "- `changed` settings used to create the cell\n",
    "- `default` settings in function signature\n",
    "- `full` full settings\n",
    "- name\n",
    "- function_name\n",
    "- module\n",
    "\n",
    "\n",
    "For creating Components you can define them in a function, and to make sure that the component gets a good name you just need to add the `@cell` decorator to that function\n",
    "\n",
    "Lets see how it works."
   ]
  },
  {
   "cell_type": "code",
   "execution_count": 1,
   "metadata": {
    "execution": {
     "iopub.execute_input": "2022-03-17T04:11:45.905736Z",
     "iopub.status.busy": "2022-03-17T04:11:45.905311Z",
     "iopub.status.idle": "2022-03-17T04:11:48.026020Z",
     "shell.execute_reply": "2022-03-17T04:11:48.025462Z"
    }
   },
   "outputs": [
    {
     "name": "stderr",
     "output_type": "stream",
     "text": [
      "2022-03-17 04:11:46.824 | INFO     | gdsfactory.config:<module>:52 - Load '/home/runner/work/gdsfactory/gdsfactory/gdsfactory' 4.4.12\n"
     ]
    }
   ],
   "source": [
    "import gdsfactory as gf\n",
    "\n",
    "# gf.CONF.plotter = 'holoviews'\n",
    "\n",
    "\n",
    "@gf.cell\n",
    "def wg(length=10, width=1):\n",
    "    print(\"BUILDING waveguide\")\n",
    "    c = gf.Component()\n",
    "    c.add_polygon([(0, 0), (length, 0), (length, width), (0, width)], layer=(1, 0))\n",
    "    c.add_port(name=\"o1\", midpoint=[0, width / 2], width=width, orientation=180)\n",
    "    c.add_port(name=\"o2\", midpoint=[length, width / 2], width=width, orientation=0)\n",
    "    return c"
   ]
  },
  {
   "cell_type": "markdown",
   "metadata": {},
   "source": [
    "See how the cells get the name from the parameters that you pass them"
   ]
  },
  {
   "cell_type": "code",
   "execution_count": 2,
   "metadata": {
    "execution": {
     "iopub.execute_input": "2022-03-17T04:11:48.030077Z",
     "iopub.status.busy": "2022-03-17T04:11:48.029750Z",
     "iopub.status.idle": "2022-03-17T04:11:48.037209Z",
     "shell.execute_reply": "2022-03-17T04:11:48.036834Z"
    }
   },
   "outputs": [
    {
     "name": "stdout",
     "output_type": "stream",
     "text": [
      "BUILDING waveguide\n",
      "wg: uid 1, ports ['o1', 'o2'], aliases [], 1 polygons, 0 references\n",
      "wg: uid 1, ports ['o1', 'o2'], aliases [], 1 polygons, 0 references\n",
      "BUILDING waveguide\n",
      "wg_d6e1c0cf: uid 2, ports ['o1', 'o2'], aliases [], 1 polygons, 0 references\n"
     ]
    }
   ],
   "source": [
    "c = wg()\n",
    "print(c)\n",
    "\n",
    "# The second time you will get this cell from the cache\n",
    "c = wg()\n",
    "print(c)\n",
    "\n",
    "# If you call the cell with different parameters, the cell will get a different name\n",
    "c = wg(width=0.5)\n",
    "print(c)"
   ]
  },
  {
   "cell_type": "code",
   "execution_count": 3,
   "metadata": {
    "execution": {
     "iopub.execute_input": "2022-03-17T04:11:48.040125Z",
     "iopub.status.busy": "2022-03-17T04:11:48.039754Z",
     "iopub.status.idle": "2022-03-17T04:11:48.048494Z",
     "shell.execute_reply": "2022-03-17T04:11:48.047991Z"
    }
   },
   "outputs": [
    {
     "data": {
      "text/plain": [
       "{'width': 0.5}"
      ]
     },
     "execution_count": 3,
     "metadata": {},
     "output_type": "execute_result"
    }
   ],
   "source": [
    "c.metadata.changed"
   ]
  },
  {
   "cell_type": "code",
   "execution_count": 4,
   "metadata": {
    "execution": {
     "iopub.execute_input": "2022-03-17T04:11:48.051860Z",
     "iopub.status.busy": "2022-03-17T04:11:48.051568Z",
     "iopub.status.idle": "2022-03-17T04:11:48.058530Z",
     "shell.execute_reply": "2022-03-17T04:11:48.058017Z"
    }
   },
   "outputs": [
    {
     "data": {
      "text/plain": [
       "{'length': 10, 'width': 1}"
      ]
     },
     "execution_count": 4,
     "metadata": {},
     "output_type": "execute_result"
    }
   ],
   "source": [
    "c.metadata.default"
   ]
  },
  {
   "cell_type": "code",
   "execution_count": 5,
   "metadata": {
    "execution": {
     "iopub.execute_input": "2022-03-17T04:11:48.061442Z",
     "iopub.status.busy": "2022-03-17T04:11:48.061181Z",
     "iopub.status.idle": "2022-03-17T04:11:48.067551Z",
     "shell.execute_reply": "2022-03-17T04:11:48.067047Z"
    }
   },
   "outputs": [
    {
     "data": {
      "text/plain": [
       "{'length': 10, 'width': 0.5}"
      ]
     },
     "execution_count": 5,
     "metadata": {},
     "output_type": "execute_result"
    }
   ],
   "source": [
    "c.metadata.full"
   ]
  },
  {
   "cell_type": "code",
   "execution_count": 6,
   "metadata": {
    "execution": {
     "iopub.execute_input": "2022-03-17T04:11:48.070699Z",
     "iopub.status.busy": "2022-03-17T04:11:48.070229Z",
     "iopub.status.idle": "2022-03-17T04:11:48.074349Z",
     "shell.execute_reply": "2022-03-17T04:11:48.073823Z"
    }
   },
   "outputs": [
    {
     "name": "stdout",
     "output_type": "stream",
     "text": [
      "settings:\n",
      "  changed:\n",
      "    width: 0.5\n",
      "  child: null\n",
      "  default:\n",
      "    length: 10\n",
      "    width: 1\n",
      "  full:\n",
      "    length: 10\n",
      "    width: 0.5\n",
      "  function_name: wg\n",
      "  info: {}\n",
      "  info_version: 2\n",
      "  module: __main__\n",
      "  name: wg_d6e1c0cf\n",
      "version: 0.0.1\n",
      "\n"
     ]
    }
   ],
   "source": [
    "c.pprint()"
   ]
  },
  {
   "cell_type": "markdown",
   "metadata": {},
   "source": [
    "thanks to `gf.cell` you can also add any metadata `info` relevant to the cell"
   ]
  },
  {
   "cell_type": "code",
   "execution_count": 7,
   "metadata": {
    "execution": {
     "iopub.execute_input": "2022-03-17T04:11:48.077236Z",
     "iopub.status.busy": "2022-03-17T04:11:48.076829Z",
     "iopub.status.idle": "2022-03-17T04:11:48.081013Z",
     "shell.execute_reply": "2022-03-17T04:11:48.080480Z"
    }
   },
   "outputs": [
    {
     "name": "stdout",
     "output_type": "stream",
     "text": [
      "BUILDING waveguide\n"
     ]
    }
   ],
   "source": [
    "c = wg(length=3, info=dict(polarization=\"te\", wavelength=1.55))"
   ]
  },
  {
   "cell_type": "code",
   "execution_count": 8,
   "metadata": {
    "execution": {
     "iopub.execute_input": "2022-03-17T04:11:48.083733Z",
     "iopub.status.busy": "2022-03-17T04:11:48.083389Z",
     "iopub.status.idle": "2022-03-17T04:11:48.087409Z",
     "shell.execute_reply": "2022-03-17T04:11:48.086887Z"
    }
   },
   "outputs": [
    {
     "name": "stdout",
     "output_type": "stream",
     "text": [
      "settings:\n",
      "  changed:\n",
      "    length: 3\n",
      "  child: null\n",
      "  default:\n",
      "    length: 10\n",
      "    width: 1\n",
      "  full:\n",
      "    length: 3\n",
      "    width: 1\n",
      "  function_name: wg\n",
      "  info:\n",
      "    polarization: te\n",
      "    wavelength: 1.55\n",
      "  info_version: 2\n",
      "  module: __main__\n",
      "  name: wg_2dcab9f2\n",
      "version: 0.0.1\n",
      "\n"
     ]
    }
   ],
   "source": [
    "c.pprint()"
   ]
  },
  {
   "cell_type": "code",
   "execution_count": 9,
   "metadata": {
    "execution": {
     "iopub.execute_input": "2022-03-17T04:11:48.090502Z",
     "iopub.status.busy": "2022-03-17T04:11:48.090155Z",
     "iopub.status.idle": "2022-03-17T04:11:48.094387Z",
     "shell.execute_reply": "2022-03-17T04:11:48.093863Z"
    }
   },
   "outputs": [
    {
     "name": "stdout",
     "output_type": "stream",
     "text": [
      "1.55\n"
     ]
    }
   ],
   "source": [
    "print(c.metadata.info.wavelength)"
   ]
  },
  {
   "cell_type": "markdown",
   "metadata": {},
   "source": [
    "## Metadata\n",
    "\n",
    "Together with the GDS files that you send to the foundry you can also store some metadata in YAML for each cell containing all the settings that we used to build the GDS.\n",
    "\n",
    "the metadata will consists of all the parameters that were passed to the component function as well as derived properties\n",
    "\n",
    "- settings: includes all component metadata\n",
    "    - derived properties\n",
    "    - external metadata (test_protocol, docs, ...)\n",
    "    - simulation_settings\n",
    "    - function_name\n",
    "    - name: for the component\n",
    "    - name_long: for the component\n",
    "    - full: full list of settings\n",
    "    - changed: changed settings\n",
    "    - default: includes the default signature of the component\n",
    "- ports: port name, width, orientation\n",
    "- cells:\n"
   ]
  },
  {
   "cell_type": "markdown",
   "metadata": {},
   "source": [
    "How can you have add two different references to a cell with the same parameters?"
   ]
  },
  {
   "cell_type": "code",
   "execution_count": 10,
   "metadata": {
    "execution": {
     "iopub.execute_input": "2022-03-17T04:11:48.097583Z",
     "iopub.status.busy": "2022-03-17T04:11:48.097186Z",
     "iopub.status.idle": "2022-03-17T04:11:48.257186Z",
     "shell.execute_reply": "2022-03-17T04:11:48.256656Z"
    }
   },
   "outputs": [
    {
     "data": {
      "image/png": "[encoded data removed]",
      "text/plain": [
       "<Figure size 432x288 with 1 Axes>"
      ]
     },
     "metadata": {
      "needs_background": "light"
     },
     "output_type": "display_data"
    }
   ],
   "source": [
    "import gdsfactory as gf\n",
    "\n",
    "c = gf.Component(\"problem\")\n",
    "R1 = gf.components.rectangle(\n",
    "    size=(4, 2), layer=(2, 0)\n",
    ")  # Creates a rectangle (same Unique ID uid)\n",
    "R2 = gf.components.rectangle(size=(4, 2), layer=(3, 0))\n",
    "# Try Create a new rectangle that we want to change (but has the same name so we will get R1 from the cache)\n",
    "\n",
    "r1r = c << R1  # Add the first rectangle to c\n",
    "r2r = c << R2  # Add the second rectangle to c\n",
    "r2r.move((4, 2))\n",
    "c.plot()"
   ]
  },
  {
   "cell_type": "code",
   "execution_count": 11,
   "metadata": {
    "execution": {
     "iopub.execute_input": "2022-03-17T04:11:48.259870Z",
     "iopub.status.busy": "2022-03-17T04:11:48.259586Z",
     "iopub.status.idle": "2022-03-17T04:11:48.264832Z",
     "shell.execute_reply": "2022-03-17T04:11:48.264265Z"
    }
   },
   "outputs": [
    {
     "name": "stdout",
     "output_type": "stream",
     "text": [
      "False\n",
      "rectangle_d3840b11: uid 5, ports ['e1', 'e2', 'e3', 'e4'], aliases [], 0 polygons, 1 references\n",
      "rectangle_303a5710: uid 7, ports ['e1', 'e2', 'e3', 'e4'], aliases [], 0 polygons, 1 references\n"
     ]
    }
   ],
   "source": [
    "print(R1 == R2)\n",
    "print(R1)\n",
    "print(R2)"
   ]
  },
  {
   "cell_type": "code",
   "execution_count": 12,
   "metadata": {
    "execution": {
     "iopub.execute_input": "2022-03-17T04:11:48.267298Z",
     "iopub.status.busy": "2022-03-17T04:11:48.267019Z",
     "iopub.status.idle": "2022-03-17T04:11:48.406262Z",
     "shell.execute_reply": "2022-03-17T04:11:48.405767Z"
    }
   },
   "outputs": [
    {
     "data": {
      "image/png": "[encoded data removed]",
      "text/plain": [
       "<Figure size 432x288 with 1 Axes>"
      ]
     },
     "metadata": {
      "needs_background": "light"
     },
     "output_type": "display_data"
    }
   ],
   "source": [
    "# lets do it cleaner with references\n",
    "import gdsfactory as gf\n",
    "\n",
    "c = gf.Component(\"solution\")\n",
    "R = gf.components.rectangle(size=(4, 2), layer=(2, 0))\n",
    "\n",
    "r1 = c << R  # Add the first rectangle reference to c\n",
    "r2 = c << R  # Add the second rectangle reference to c\n",
    "\n",
    "r2.rotate(45)\n",
    "c.plot()"
   ]
  },
  {
   "cell_type": "code",
   "execution_count": 13,
   "metadata": {
    "execution": {
     "iopub.execute_input": "2022-03-17T04:11:48.408939Z",
     "iopub.status.busy": "2022-03-17T04:11:48.408651Z",
     "iopub.status.idle": "2022-03-17T04:11:48.542705Z",
     "shell.execute_reply": "2022-03-17T04:11:48.542269Z"
    }
   },
   "outputs": [
    {
     "name": "stderr",
     "output_type": "stream",
     "text": [
      "2022-03-17 04:11:48.417 | INFO     | gdsfactory.show:show:36 - Klayout show straight: uid 12, ports ['o1', 'o2'], aliases [], 3 polygons, 0 references\n"
     ]
    },
    {
     "data": {
      "image/png": "[encoded data removed]",
      "text/plain": [
       "<Figure size 432x288 with 1 Axes>"
      ]
     },
     "metadata": {
      "needs_background": "light"
     },
     "output_type": "display_data"
    }
   ],
   "source": [
    "import gdsfactory as gf\n",
    "\n",
    "c = gf.components.straight()\n",
    "c.show()\n",
    "c.plot()"
   ]
  },
  {
   "cell_type": "markdown",
   "metadata": {},
   "source": [
    "We can even show ports of all references with `component.show(show_subports=True)`"
   ]
  },
  {
   "cell_type": "code",
   "execution_count": 14,
   "metadata": {
    "execution": {
     "iopub.execute_input": "2022-03-17T04:11:48.545607Z",
     "iopub.status.busy": "2022-03-17T04:11:48.545230Z",
     "iopub.status.idle": "2022-03-17T04:11:49.022395Z",
     "shell.execute_reply": "2022-03-17T04:11:49.021874Z"
    }
   },
   "outputs": [
    {
     "data": {
      "image/png": "[encoded data removed]",
      "text/plain": [
       "<Figure size 432x288 with 1 Axes>"
      ]
     },
     "metadata": {
      "needs_background": "light"
     },
     "output_type": "display_data"
    }
   ],
   "source": [
    "c = gf.components.mzi_phase_shifter(length_x=50)\n",
    "c.plot()"
   ]
  },
  {
   "cell_type": "markdown",
   "metadata": {},
   "source": [
    "## Cache\n",
    "\n",
    "To avoid that 2 exact cells are not references of the same cell the `cell` decorator has a\n",
    "cache where if a component has already been built it will return the component\n",
    "from the cache\n"
   ]
  },
  {
   "cell_type": "code",
   "execution_count": 15,
   "metadata": {
    "execution": {
     "iopub.execute_input": "2022-03-17T04:11:49.025234Z",
     "iopub.status.busy": "2022-03-17T04:11:49.024847Z",
     "iopub.status.idle": "2022-03-17T04:11:49.031401Z",
     "shell.execute_reply": "2022-03-17T04:11:49.030398Z"
    }
   },
   "outputs": [],
   "source": [
    "@gf.cell\n",
    "def wg(length=10, width=1):\n",
    "    c = gf.Component()\n",
    "    c.add_polygon([(0, 0), (length, 0), (length, width), (0, width)], layer=(1, 0))\n",
    "    print(\"BUILDING waveguide\")\n",
    "    return c"
   ]
  },
  {
   "cell_type": "code",
   "execution_count": 16,
   "metadata": {
    "execution": {
     "iopub.execute_input": "2022-03-17T04:11:49.033957Z",
     "iopub.status.busy": "2022-03-17T04:11:49.033618Z",
     "iopub.status.idle": "2022-03-17T04:11:49.038691Z",
     "shell.execute_reply": "2022-03-17T04:11:49.038258Z"
    }
   },
   "outputs": [
    {
     "name": "stdout",
     "output_type": "stream",
     "text": [
      "BUILDING waveguide\n",
      "wg: uid 31, ports [], aliases [], 1 polygons, 0 references\n"
     ]
    }
   ],
   "source": [
    "gf.clear_cache()\n",
    "\n",
    "wg1 = wg()  # cell builds a straight\n",
    "print(wg1)"
   ]
  },
  {
   "cell_type": "code",
   "execution_count": 17,
   "metadata": {
    "execution": {
     "iopub.execute_input": "2022-03-17T04:11:49.041557Z",
     "iopub.status.busy": "2022-03-17T04:11:49.041029Z",
     "iopub.status.idle": "2022-03-17T04:11:49.045229Z",
     "shell.execute_reply": "2022-03-17T04:11:49.044653Z"
    }
   },
   "outputs": [
    {
     "name": "stdout",
     "output_type": "stream",
     "text": [
      "wg: uid 31, ports [], aliases [], 1 polygons, 0 references\n"
     ]
    }
   ],
   "source": [
    "wg2 = wg()\n",
    "# cell returns the same straight as before without having to run the function\n",
    "print(wg2)  # notice that they have the same uuid (unique identifier)"
   ]
  },
  {
   "cell_type": "code",
   "execution_count": 18,
   "metadata": {
    "execution": {
     "iopub.execute_input": "2022-03-17T04:11:49.047620Z",
     "iopub.status.busy": "2022-03-17T04:11:49.047463Z",
     "iopub.status.idle": "2022-03-17T04:11:49.181217Z",
     "shell.execute_reply": "2022-03-17T04:11:49.180678Z"
    }
   },
   "outputs": [
    {
     "data": {
      "image/png": "[encoded data removed]",
      "text/plain": [
       "<Figure size 432x288 with 1 Axes>"
      ]
     },
     "metadata": {
      "needs_background": "light"
     },
     "output_type": "display_data"
    }
   ],
   "source": [
    "wg2.plot()"
   ]
  },
  {
   "cell_type": "code",
   "execution_count": 19,
   "metadata": {
    "execution": {
     "iopub.execute_input": "2022-03-17T04:11:49.184310Z",
     "iopub.status.busy": "2022-03-17T04:11:49.183813Z",
     "iopub.status.idle": "2022-03-17T04:11:49.187892Z",
     "shell.execute_reply": "2022-03-17T04:11:49.187394Z"
    }
   },
   "outputs": [],
   "source": [
    "from gdsfactory.cell import print_cache"
   ]
  },
  {
   "cell_type": "markdown",
   "metadata": {},
   "source": [
    "Lets say that you change the code of the straight function in a jupyter notebook like this one.  (I mostly use Vim/VsCode/Pycharm for creating new cells in python)"
   ]
  },
  {
   "cell_type": "code",
   "execution_count": 20,
   "metadata": {
    "execution": {
     "iopub.execute_input": "2022-03-17T04:11:49.190633Z",
     "iopub.status.busy": "2022-03-17T04:11:49.190185Z",
     "iopub.status.idle": "2022-03-17T04:11:49.195109Z",
     "shell.execute_reply": "2022-03-17T04:11:49.194643Z"
    }
   },
   "outputs": [
    {
     "name": "stdout",
     "output_type": "stream",
     "text": [
      "wg\n"
     ]
    }
   ],
   "source": [
    "print_cache()"
   ]
  },
  {
   "cell_type": "code",
   "execution_count": 21,
   "metadata": {
    "execution": {
     "iopub.execute_input": "2022-03-17T04:11:49.197831Z",
     "iopub.status.busy": "2022-03-17T04:11:49.197433Z",
     "iopub.status.idle": "2022-03-17T04:11:49.202045Z",
     "shell.execute_reply": "2022-03-17T04:11:49.201533Z"
    }
   },
   "outputs": [
    {
     "name": "stdout",
     "output_type": "stream",
     "text": [
      "BUILDING waveguide\n"
     ]
    }
   ],
   "source": [
    "wg3 = wg()\n",
    "wg4 = wg(length=11)"
   ]
  },
  {
   "cell_type": "code",
   "execution_count": 22,
   "metadata": {
    "execution": {
     "iopub.execute_input": "2022-03-17T04:11:49.204315Z",
     "iopub.status.busy": "2022-03-17T04:11:49.203979Z",
     "iopub.status.idle": "2022-03-17T04:11:49.206978Z",
     "shell.execute_reply": "2022-03-17T04:11:49.206478Z"
    }
   },
   "outputs": [
    {
     "name": "stdout",
     "output_type": "stream",
     "text": [
      "wg\n",
      "wg_0723ff82\n"
     ]
    }
   ],
   "source": [
    "print_cache()"
   ]
  },
  {
   "cell_type": "code",
   "execution_count": 23,
   "metadata": {
    "execution": {
     "iopub.execute_input": "2022-03-17T04:11:49.209944Z",
     "iopub.status.busy": "2022-03-17T04:11:49.209551Z",
     "iopub.status.idle": "2022-03-17T04:11:49.212118Z",
     "shell.execute_reply": "2022-03-17T04:11:49.211582Z"
    }
   },
   "outputs": [],
   "source": [
    "gf.clear_cache()"
   ]
  },
  {
   "cell_type": "markdown",
   "metadata": {},
   "source": [
    "To enable nice notebook tutorials, every time we show a cell in Matplotlib or Klayout, you can clear the cache,\n",
    "\n",
    "in case you want to develop cells in jupyter notebooks or an IPython kernel"
   ]
  },
  {
   "cell_type": "code",
   "execution_count": 24,
   "metadata": {
    "execution": {
     "iopub.execute_input": "2022-03-17T04:11:49.214453Z",
     "iopub.status.busy": "2022-03-17T04:11:49.214121Z",
     "iopub.status.idle": "2022-03-17T04:11:49.216623Z",
     "shell.execute_reply": "2022-03-17T04:11:49.216112Z"
    }
   },
   "outputs": [],
   "source": [
    "print_cache()  # cache is now empty"
   ]
  },
  {
   "cell_type": "markdown",
   "metadata": {},
   "source": [
    "## Validate argument types\n",
    "\n",
    "By default, also `@cell` validates arguments based on their type annotations.\n",
    "To make sure you pass the correct arguments to the cell it runs a validator that checks the type annotations for the function.\n",
    "\n",
    "\n",
    "For example this will be correct\n",
    "\n",
    "```python\n",
    "import gdsfactory as gf\n",
    "\n",
    "@gf.cell\n",
    "def straigth_waveguide(length:float):\n",
    "    return gf.components.straight(length=length)\n",
    "\n",
    "\n",
    "component = straigth_waveguide(length=3)\n",
    "```\n",
    "\n",
    "While this will raise an error, because you are passing a length that is a string, so it cannot convert it to a float\n",
    "\n",
    "\n",
    "```python\n",
    "component = straigth_waveguide(length='long')\n",
    "```\n",
    "\n",
    "```bash\n",
    "ValidationError: 1 validation error for StraigthWaveguide\n",
    "length\n",
    "  value is not a valid float (type=type_error.float)\n",
    "\n",
    "```\n",
    "\n",
    "by default `@cell` validates all arguments using [pydantic](https://pydantic-docs.helpmanual.io/usage/validation_decorator/#argument-types)"
   ]
  },
  {
   "cell_type": "code",
   "execution_count": 25,
   "metadata": {
    "execution": {
     "iopub.execute_input": "2022-03-17T04:11:49.218983Z",
     "iopub.status.busy": "2022-03-17T04:11:49.218645Z",
     "iopub.status.idle": "2022-03-17T04:11:49.226691Z",
     "shell.execute_reply": "2022-03-17T04:11:49.226178Z"
    }
   },
   "outputs": [
    {
     "name": "stdout",
     "output_type": "stream",
     "text": [
      "<class 'float'>\n"
     ]
    }
   ],
   "source": [
    "@gf.cell\n",
    "def straigth_waveguide(length: float):\n",
    "    print(type(length))\n",
    "    return gf.components.straight(length=length)\n",
    "\n",
    "\n",
    "# It will also convert an `int` to a `float`\n",
    "c = straigth_waveguide(length=3)"
   ]
  },
  {
   "cell_type": "code",
   "execution_count": null,
   "metadata": {},
   "outputs": [],
   "source": []
  }
 ],
 "metadata": {
  "kernelspec": {
   "display_name": "Python 3 (ipykernel)",
   "language": "python",
   "name": "python3"
  },
  "language_info": {
   "codemirror_mode": {
    "name": "ipython",
    "version": 3
   },
   "file_extension": ".py",
   "mimetype": "text/x-python",
   "name": "python",
   "nbconvert_exporter": "python",
   "pygments_lexer": "ipython3",
   "version": "3.9.10"
  }
 },
 "nbformat": 4,
 "nbformat_minor": 4
}
